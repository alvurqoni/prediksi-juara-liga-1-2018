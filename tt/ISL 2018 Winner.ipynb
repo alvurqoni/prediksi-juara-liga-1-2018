{
 "cells": [
  {
   "cell_type": "code",
   "execution_count": 8,
   "metadata": {
    "collapsed": true
   },
   "outputs": [],
   "source": [
    "import xlrd\n",
    "import pandas as pd\n",
    "\n",
    "file_location = \"team.xlsx\"\n",
    "workbook = xlrd.open_workbook(file_location)\n",
    "train = workbook.sheet_by_index(1)"
   ]
  },
  {
   "cell_type": "markdown",
   "metadata": {},
   "source": [
    "KLASEMEN 16 APRIL"
   ]
  },
  {
   "cell_type": "code",
   "execution_count": 9,
   "metadata": {
    "collapsed": true
   },
   "outputs": [],
   "source": [
    "def cekklasemen(nama):\n",
    "    if (nama==\"persija\"):\n",
    "        return 2\n",
    "    if (nama==\"persipura\"):\n",
    "        return 1\n",
    "    if (nama==\"persebaya\"):\n",
    "        return 4\n",
    "    if (nama==\"barito\"):\n",
    "        return 3\n",
    "    if (nama==\"borneo\"):\n",
    "        return 5\n",
    "    if (nama==\"madura\"):\n",
    "        return 6\n",
    "    if (nama==\"psm\"):\n",
    "        return 7\n",
    "    if (nama==\"bali\"):\n",
    "        return 8\n",
    "    if (nama==\"psms\"):\n",
    "        return 17\n",
    "    if (nama==\"persela\"):\n",
    "        return 12\n",
    "    if (nama==\"persib\"):\n",
    "        return 13\n",
    "    if (nama==\"bhayangkara\"):\n",
    "        return 11\n",
    "    if (nama==\"sriwijaya\"):\n",
    "        return 9\n",
    "    if (nama==\"psis\"):\n",
    "        return 10\n",
    "    if (nama==\"mitra\"):\n",
    "        return 14\n",
    "    if (nama==\"perseru\"):\n",
    "        return 15\n",
    "    if (nama==\"pstira\"):\n",
    "        return 16\n",
    "    if (nama==\"arema\"):\n",
    "        return 18\n",
    "    "
   ]
  },
  {
   "cell_type": "markdown",
   "metadata": {},
   "source": [
    "GENERET POINT MASING2 CLUB(FUNGSI)"
   ]
  },
  {
   "cell_type": "code",
   "execution_count": 10,
   "metadata": {
    "collapsed": true
   },
   "outputs": [],
   "source": [
    "def hitung(i,k):\n",
    "    jum=0\n",
    "    point=0\n",
    "    while(i<=k):\n",
    "        namaA=train.cell_value(i,0)\n",
    "        namaB=train.cell_value(i,1)\n",
    "        a=train.cell_value(i,2)\n",
    "        seri=train.cell_value(i,3)\n",
    "        b=train.cell_value(i,4)\n",
    "        \n",
    "        if ((a>b)and(a>seri)):\n",
    "            point=3\n",
    "        if ((seri>a)and(seri>b)):\n",
    "            point=1\n",
    "        if ((a==0.5)and(seri==0.5)):\n",
    "            perA= cekklasemen(namaA)\n",
    "            perB= cekklasemen(namaB)\n",
    "            if (perA<perB):\n",
    "                point=3\n",
    "            else:\n",
    "                point=1\n",
    "        if ((b==0.5)and(seri==0.5)):\n",
    "            perA= cekklasemen(namaA)\n",
    "            perB= cekklasemen(namaB)\n",
    "            if (perA<perB):\n",
    "                point=1\n",
    "            else:\n",
    "                point=0\n",
    "        if((a==0.5)and(b==0.5)):\n",
    "            point=1\n",
    "        jum=jum+point\n",
    "        i=i+1\n",
    "    return jum\n",
    "\n"
   ]
  },
  {
   "cell_type": "markdown",
   "metadata": {},
   "source": [
    "menggunakan fungsi hitung dan menambah dengan point di klasemen dunia nyata"
   ]
  },
  {
   "cell_type": "code",
   "execution_count": 11,
   "metadata": {
    "collapsed": true,
    "scrolled": true
   },
   "outputs": [],
   "source": [
    "sriwijaya=hitung(1,13)+5\n",
    "persela=hitung(14,27)+5\n",
    "psms=hitung(28,39)+3\n",
    "perseru=hitung(40,52)+4\n",
    "barito=hitung(53,65)+7\n",
    "psis=hitung(66,78)+5\n",
    "persib=hitung(79,91)+5\n",
    "persija=hitung(92,104)+7\n",
    "bhayangkara=hitung(105,117)+5\n",
    "borneo=hitung(118,130)+7\n",
    "persebaya=hitung(131,143)+7\n",
    "arema=hitung(144,155)+2\n",
    "mitra=hitung(156,168)+4\n",
    "pstira=hitung(169,181)+4\n",
    "madura=hitung(182,194)+6\n",
    "psm=hitung(195,208)+6\n",
    "persipura=hitung(209,221)+8\n",
    "bali=hitung(222,234)+6\n"
   ]
  },
  {
   "cell_type": "markdown",
   "metadata": {},
   "source": [
    "algoritma sorting untuk mengurutkan klasemen jadi"
   ]
  },
  {
   "cell_type": "code",
   "execution_count": 12,
   "metadata": {
    "collapsed": true
   },
   "outputs": [],
   "source": [
    "def SelectionSort(val,val2):\n",
    "   for isi in range(len(val)-1,0,-1):\n",
    "       Max=0\n",
    "       for lokasi in range(1,isi+1):\n",
    "           if val[lokasi]<val[Max]:\n",
    "               Max = lokasi\n",
    "\n",
    "       temp = val[isi]\n",
    "       temp2 = val2[isi]\n",
    "       val[isi] = val[Max]\n",
    "       val2[isi]=val2[Max]\n",
    "       val[Max] = temp\n",
    "       val2[Max]=temp2\n",
    "    \n"
   ]
  },
  {
   "cell_type": "markdown",
   "metadata": {},
   "source": [
    "menyimpan nama dan point di array"
   ]
  },
  {
   "cell_type": "code",
   "execution_count": 13,
   "metadata": {},
   "outputs": [
    {
     "name": "stdout",
     "output_type": "stream",
     "text": [
      "=====================================================================================================================\n",
      "Hasil klasemen pertandingan\n",
      "['persipura', 'bhayangkara', 'persija', 'sriwijaya', 'persib', 'barito', 'bali', 'mitra', 'persebaya', 'psm', 'madura', 'borneo', 'pstira', 'perseru', 'arema', 'persela', 'psis', 'psms']\n",
      "[37, 36, 34, 32, 31, 29, 29, 29, 28, 26, 26, 26, 25, 24, 23, 22, 16, 13]\n"
     ]
    }
   ],
   "source": [
    "Statistik = []\n",
    "\n",
    "Statistik.append(persija)\n",
    "Statistik.append(persipura)\n",
    "Statistik.append(persebaya)\n",
    "Statistik.append(barito)\n",
    "Statistik.append(borneo)\n",
    "Statistik.append(madura)\n",
    "Statistik.append(psm)\n",
    "Statistik.append(bali)\n",
    "Statistik.append(psms)\n",
    "Statistik.append(persela)\n",
    "Statistik.append(persib)\n",
    "Statistik.append(bhayangkara)\n",
    "Statistik.append(sriwijaya)\n",
    "Statistik.append(psis)\n",
    "Statistik.append(mitra)\n",
    "Statistik.append(perseru)\n",
    "Statistik.append(pstira)\n",
    "Statistik.append(arema)\n",
    "\n",
    "nama = []\n",
    "\n",
    "nama.append(\"persija\")\n",
    "nama.append(\"persipura\")\n",
    "nama.append(\"persebaya\")\n",
    "nama.append(\"barito\")\n",
    "nama.append(\"borneo\")\n",
    "nama.append(\"madura\")\n",
    "nama.append(\"psm\")\n",
    "nama.append(\"bali\")\n",
    "nama.append(\"psms\")\n",
    "nama.append(\"persela\")\n",
    "nama.append(\"persib\")\n",
    "nama.append(\"bhayangkara\")\n",
    "nama.append(\"sriwijaya\")\n",
    "nama.append(\"psis\")\n",
    "nama.append(\"mitra\")\n",
    "nama.append(\"perseru\")\n",
    "nama.append(\"pstira\")\n",
    "nama.append(\"arema\")\n",
    "\n",
    "print(\"=====================================================================================================================\")\n",
    "print(\"Hasil klasemen pertandingan\")\n",
    "SelectionSort(Statistik,nama)\n",
    "print(nama)\n",
    "print(Statistik)\n"
   ]
  },
  {
   "cell_type": "code",
   "execution_count": 14,
   "metadata": {
    "collapsed": true
   },
   "outputs": [],
   "source": [
    "result = pd.DataFrame({\n",
    "    \"nama team\" : nama,\n",
    "    \"point\" : Statistik\n",
    "})"
   ]
  },
  {
   "cell_type": "code",
   "execution_count": 16,
   "metadata": {
    "collapsed": true
   },
   "outputs": [],
   "source": [
    "result.to_csv('prediksi.csv', index = False)"
   ]
  },
  {
   "cell_type": "code",
   "execution_count": null,
   "metadata": {
    "collapsed": true
   },
   "outputs": [],
   "source": []
  }
 ],
 "metadata": {
  "kernelspec": {
   "display_name": "Python 3",
   "language": "python",
   "name": "python3"
  },
  "language_info": {
   "codemirror_mode": {
    "name": "ipython",
    "version": 3
   },
   "file_extension": ".py",
   "mimetype": "text/x-python",
   "name": "python",
   "nbconvert_exporter": "python",
   "pygments_lexer": "ipython3",
   "version": "3.6.3"
  }
 },
 "nbformat": 4,
 "nbformat_minor": 2
}
